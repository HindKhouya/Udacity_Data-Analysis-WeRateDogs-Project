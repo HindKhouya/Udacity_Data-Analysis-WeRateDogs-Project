{
 "cells": [
  {
   "cell_type": "markdown",
   "metadata": {},
   "source": [
    "# Insights from the `dog_rates` Twitter archive\n",
    "\n",
    "**Hind Khouya**"
   ]
  },
  {
   "cell_type": "markdown",
   "metadata": {},
   "source": [
    "The \"We Rate Dogs\" Twitter archive, given the popularity of the account, the prolific posts, and the systematicity of the content, is fertile ground for gaining some insight into how a poster's content may change over time, how the popularity of an account may grow, or how readers may react to specific content.\n",
    "Here, I present a few basic trends gleaned from an exploratory analysis of this archive."
   ]
  },
  {
   "cell_type": "markdown",
   "metadata": {},
   "source": [
    "## How account popularity and dog ratings change over time"
   ]
  },
  {
   "cell_type": "markdown",
   "metadata": {},
   "source": [
    "<table><tr><td><img src='plots/time.png' width=\"55%\"></td></tr></table>"
   ]
  },
  {
   "cell_type": "markdown",
   "metadata": {},
   "source": [
    "It is clear that the popularity of the content has steadily increased over time - and so have the ratings given to the dogs (and non-dogs) featured in the tweets.  One possibility is that as the account has increased in popularity, the writer caught on to the popularity of the exceedingly high ratings, and began to use them increasingly often.  Another possibility is that the increasingly high ratings themselves have driven the growing popularity of this account."
   ]
  },
  {
   "cell_type": "markdown",
   "metadata": {},
   "source": [
    "## Most popular dog breeds"
   ]
  },
  {
   "cell_type": "markdown",
   "metadata": {},
   "source": [
    "<table><tr><td><img src='plots/rated_dogs.png?arg'></td><td><img src='plots/retweeted_dogs.png?arg'></td><td><img src='plots/favorited_dogs.png?arg'></td></tr></table>"
   ]
  },
  {
   "cell_type": "markdown",
   "metadata": {},
   "source": [
    "As can be seen here, some dogs are particularly popular.  The Pomeranian Dog, for instance, is the most highly-rated dog, However it is not one of the top 10 most retweeted and most-favorited dogs.  Another few all-around favorites are the kuvasz, the Great Pyrenees, and the Border terrier.  The Golden Retriever, despite being highly-rated, does not make the top 10 in either retweets or favorites, perhaps because the dog breed is so common.\n",
    "\n",
    "The correspondence between ratings, retweets, and favorites suggests either that the writer is quite good at predicting which dogs his readers will like, that his judgement largely corresponds to that of his readers, or that the high ratings themselves drive popularity."
   ]
  },
  {
   "cell_type": "markdown",
   "metadata": {},
   "source": [
    "## Are dog ratings predictive of tweet popularity?"
   ]
  },
  {
   "cell_type": "markdown",
   "metadata": {},
   "source": [
    "<table><tr><td><img src='plots/favorites_rating.png' width=\"80%\"></td></tr></table>"
   ]
  },
  {
   "cell_type": "markdown",
   "metadata": {},
   "source": [
    "The plot above fairly clearly show that higher dog ratings (particularly those above the standard 10/10) are particularly liked by readers, suggesting again that the excessive ratings help drive the popularity of the accounts.  However, here again there may be a confound, in tweets with higher ratings being disproportionately sent out after the account became particularly popular."
   ]
  },
  {
   "cell_type": "markdown",
   "metadata": {},
   "source": [
    "# Wrap-up"
   ]
  },
  {
   "cell_type": "markdown",
   "metadata": {},
   "source": [
    "To conclude, a preliminary analysis shows that readers particularly enjoy certain dog stages; that the excessive dog ratings are popular, and have 'grown' as the popularity of the content has steadily increased; and that certain breeds of dogs are particularly beloved.  In most cases, the precise relationship between the variables is unclear - did higher dog ratings drive account popularity, did the writer catch on to higher ratings being popular with his followers?  Some of these questions might be answered with a more in-depth analysis of the temporal relationship between these variables."
   ]
  }
 ],
 "metadata": {
  "kernelspec": {
   "display_name": "Python 3 (ipykernel)",
   "language": "python",
   "name": "python3"
  },
  "language_info": {
   "codemirror_mode": {
    "name": "ipython",
    "version": 3
   },
   "file_extension": ".py",
   "mimetype": "text/x-python",
   "name": "python",
   "nbconvert_exporter": "python",
   "pygments_lexer": "ipython3",
   "version": "3.9.12"
  }
 },
 "nbformat": 4,
 "nbformat_minor": 2
}
