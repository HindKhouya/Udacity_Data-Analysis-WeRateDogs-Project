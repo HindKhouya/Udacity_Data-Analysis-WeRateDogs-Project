{
 "cells": [
  {
   "cell_type": "markdown",
   "id": "06aab45d",
   "metadata": {},
   "source": [
    "# Written Internal Report\n",
    "**Hind Khouya**"
   ]
  },
  {
   "cell_type": "markdown",
   "id": "f9768589",
   "metadata": {},
   "source": [
    "### Data Gathering\n",
    "\n",
    "I gathered the data from the three sources provided, so this Project contains three Dataframes:\n",
    "- `twitter-archive-enhanced.csv` downloaded from the project resources\n",
    "- `image_predictions` This dataframe was obtained with the help of `request` library that requested to download the TSV from the URL that was specified in the function. To read the TSV we needed to specify the **sep** parameter to be _\\t_.\n",
    "- `api_data` and unfortunately had to get the API data from the project manager, I waited the approval, as my developer account was not approved in time by Twitter, That's why i used the json file provided. This dataframe contained the retweeted counts and the favourite counts.\n",
    "\n",
    "### Assessing Data \n",
    "\n",
    "I then examined the data, when i made a first visual assessment I noticed several clear issues like \n",
    "- some data was extracted incorrectly, many columns were formatted incorrectly, and some column types did not correspond to the data type.\n",
    " then i have situated the quality and the tidiness issues. \n",
    "\n",
    "### Cleaning Data\n",
    "**Quality issues**\n",
    "- i made a copies of the Dataframes\n",
    "- removed all non-original tweets, and tweets without images, from the dataset, to avoid any issues when joining or creating tables, in terms of ensuring that all contained only the relevant tweets.\n",
    "\n",
    "- removing unneeded columns, creating other columns which made certain information easier to access, joining the API data to the main twitter archive, and tidying up some columns which contained lists of several different items.\n",
    "\n",
    "After this, I re-assessed.\n",
    "\n",
    "On the second round of cleaning:\n",
    "- I fixed multiple column types\n",
    "- expressed a few columns as a more-easy-to-interpret-and-reference true/false format.\n",
    "- removed extraneous strings from other columns \n",
    "- and removed data for irrelevant tweets from the predictions table.  With respect to the missing data.\n",
    "there are probably a few edge cases of mis-labeled tweets that I missed, but the archive is too large to go through in its entirety, so I tested for the most obvious outliers and false values.\n",
    "\n",
    "**Tidiness Issues**\n",
    "- I combined the dog stages into one column.\n",
    "- I stored the three tables in one (Storing the Data).\n",
    "\n",
    "### Visualisation\n",
    "I then created a few exploratory plots, and decided to focus on those relationships which were most apparent or interesting.  \n",
    "I finally created plots of these relationships."
   ]
  }
 ],
 "metadata": {
  "kernelspec": {
   "display_name": "Python 3 (ipykernel)",
   "language": "python",
   "name": "python3"
  },
  "language_info": {
   "codemirror_mode": {
    "name": "ipython",
    "version": 3
   },
   "file_extension": ".py",
   "mimetype": "text/x-python",
   "name": "python",
   "nbconvert_exporter": "python",
   "pygments_lexer": "ipython3",
   "version": "3.9.12"
  }
 },
 "nbformat": 4,
 "nbformat_minor": 5
}
